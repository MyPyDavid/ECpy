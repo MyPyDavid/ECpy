{
 "cells": [
  {
   "cell_type": "markdown",
   "metadata": {},
   "source": [
    "# Gaussian Process Distribution of Relaxation Times. \n",
    "## In this tutorial we will reproduce Figure 8 of the article https://doi.org/10.1016/j.electacta.2019.135316\n",
    "\n",
    "This tutorial shows how the GP-DRT model can recover DRT from the impedance missing some data points and predict the impedance value at those not measured frequencies.\n",
    "\n",
    "The impedance and analytical DRT in this tutorial share the same format as in `ex1_simple_ZARC_model.ipynb`. The only difference  is that impedance here at lower frequencies ($f < 10^{-3}~{\\rm Hz}$) are not available."
   ]
  },
  {
   "cell_type": "code",
   "execution_count": null,
   "metadata": {},
   "outputs": [],
   "source": [
    "from math import cos, pi, sin\n",
    "\n",
    "import GP_DRT\n",
    "import matplotlib.pyplot as plt\n",
    "import numpy as np\n",
    "from scipy.optimize import minimize\n",
    "\n",
    "%matplotlib inline"
   ]
  },
  {
   "cell_type": "markdown",
   "metadata": {},
   "source": [
    "## 1) Define parameters of the ZARC circuit"
   ]
  },
  {
   "cell_type": "code",
   "execution_count": null,
   "metadata": {},
   "outputs": [],
   "source": [
    "# define the frequency range\n",
    "N_freqs = 71\n",
    "freq_vec = np.logspace(-3.0, 4.0, num=N_freqs, endpoint=True)\n",
    "xi_vec = np.log(freq_vec)\n",
    "tau = 1 / freq_vec\n",
    "\n",
    "# define the frequency range used for prediction\n",
    "freq_vec_star = np.logspace(-4.0, 4.0, num=81, endpoint=True)\n",
    "xi_vec_star = np.log(freq_vec_star)\n",
    "\n",
    "# parameters for ZARC model\n",
    "R_inf = 10\n",
    "R_ct = 50\n",
    "phi = 0.8\n",
    "tau_0 = 1.0\n",
    "\n",
    "C = tau_0 ** phi / R_ct\n",
    "Z_exact = R_inf + 1.0 / (1.0 / R_ct + C * (1j * 2.0 * pi * freq_vec) ** phi)\n",
    "gamma_fct = (\n",
    "    (R_ct)\n",
    "    / (2.0 * pi)\n",
    "    * sin((1.0 - phi) * pi)\n",
    "    / (np.cosh(phi * np.log(tau / tau_0)) - cos((1.0 - phi) * pi))\n",
    ")\n",
    "\n",
    "# used for plotting only\n",
    "freq_vec_plot = np.logspace(-4.0, 4.0, num=10 * (N_freqs - 1), endpoint=True)\n",
    "tau_plot = 1 / freq_vec_plot\n",
    "gamma_fct_plot = (\n",
    "    (R_ct)\n",
    "    / (2.0 * pi)\n",
    "    * sin((1.0 - phi) * pi)\n",
    "    / (np.cosh(phi * np.log(tau_plot / tau_0)) - cos((1.0 - phi) * pi))\n",
    ")  # for plotting only\n",
    "\n",
    "# adding random noise to the impedance\n",
    "rng = np.random.seed(214974)\n",
    "sigma_n_exp = 0.1\n",
    "Z_exp = Z_exact + sigma_n_exp * (\n",
    "    np.random.normal(0, 1, N_freqs) + 1j * np.random.normal(0, 1, N_freqs)\n",
    ")"
   ]
  },
  {
   "cell_type": "markdown",
   "metadata": {},
   "source": [
    "## 2) show the synthetic impedance in a Nyquist plot. \n",
    "### Note: this is similar to Figure 8 (a)"
   ]
  },
  {
   "cell_type": "code",
   "execution_count": null,
   "metadata": {},
   "outputs": [],
   "source": [
    "# Nyquist plot of impedance together with labeled frequency points\n",
    "fig, ax = plt.subplots()\n",
    "plt.plot(np.real(Z_exact), -np.imag(Z_exact), linewidth=4, color=\"black\", label=\"exact\")\n",
    "plt.plot(\n",
    "    np.real(Z_exp), -np.imag(Z_exp), \"o\", markersize=10, color=\"red\", label=\"synth exp\"\n",
    ")\n",
    "plt.annotate(\n",
    "    r\"$10^{-3}$\",\n",
    "    xy=(np.real(Z_exp[0]), -np.imag(Z_exp[0])),\n",
    "    xytext=(np.real(Z_exp[0]) - 15, -np.imag(Z_exp[0])),\n",
    "    arrowprops=dict(arrowstyle=\"-\", connectionstyle=\"arc\"),\n",
    ")\n",
    "plt.annotate(\n",
    "    r\"$10^{-2}$\",\n",
    "    xy=(np.real(Z_exp[10]), -np.imag(Z_exp[10])),\n",
    "    xytext=(np.real(Z_exp[10]) - 2, 10 - np.imag(Z_exp[10])),\n",
    "    arrowprops=dict(arrowstyle=\"-\", connectionstyle=\"arc\"),\n",
    ")\n",
    "plt.annotate(\n",
    "    r\"$10^{-1}$\",\n",
    "    xy=(np.real(Z_exp[20]), -np.imag(Z_exp[20])),\n",
    "    xytext=(np.real(Z_exp[20]) - 2, 6 - np.imag(Z_exp[20])),\n",
    "    arrowprops=dict(arrowstyle=\"-\", connectionstyle=\"arc\"),\n",
    ")\n",
    "plt.annotate(\n",
    "    r\"$1$\",\n",
    "    xy=(np.real(Z_exp[30]), -np.imag(Z_exp[30])),\n",
    "    xytext=(np.real(Z_exp[30]), 10 - np.imag(Z_exp[30])),\n",
    "    arrowprops=dict(arrowstyle=\"-\", connectionstyle=\"arc\"),\n",
    ")\n",
    "plt.annotate(\n",
    "    r\"$10$\",\n",
    "    xy=(np.real(Z_exp[40]), -np.imag(Z_exp[40])),\n",
    "    xytext=(np.real(Z_exp[40]) - 1, 10 - np.imag(Z_exp[40])),\n",
    "    arrowprops=dict(arrowstyle=\"-\", connectionstyle=\"arc\"),\n",
    ")\n",
    "plt.rc(\"text\", usetex=True)\n",
    "plt.rc(\"font\", family=\"serif\", size=15)\n",
    "plt.rc(\"xtick\", labelsize=15)\n",
    "plt.rc(\"ytick\", labelsize=15)\n",
    "plt.legend(frameon=False, fontsize=15)\n",
    "plt.axis(\"scaled\")\n",
    "\n",
    "plt.xticks(range(10, 70, 10))\n",
    "plt.yticks(range(0, 60, 10))\n",
    "plt.gca().set_aspect(\"equal\", adjustable=\"box\")\n",
    "plt.xlabel(r\"$Z_{\\rm re}/\\Omega$\", fontsize=20)\n",
    "plt.ylabel(r\"$-Z_{\\rm im}/\\Omega$\", fontsize=20)\n",
    "plt.show()"
   ]
  },
  {
   "cell_type": "markdown",
   "metadata": {},
   "source": [
    "## 3) Compute the optimal hyperparameters"
   ]
  },
  {
   "cell_type": "code",
   "execution_count": null,
   "metadata": {},
   "outputs": [],
   "source": [
    "# initialize the parameter for global 3D optimization to maximize the marginal log-likelihood as shown in eq (31)\n",
    "sigma_n = sigma_n_exp\n",
    "sigma_f = 5.0\n",
    "ell = 1.0\n",
    "\n",
    "theta_0 = np.array([sigma_n, sigma_f, ell])\n",
    "seq_theta = np.copy(theta_0)\n",
    "\n",
    "\n",
    "def print_results(theta):\n",
    "    global seq_theta\n",
    "    seq_theta = np.vstack((seq_theta, theta))\n",
    "    print(\"{0:.7f}  {1:.7f}  {2:.7f}\".format(theta[0], theta[1], theta[2]))\n",
    "\n",
    "\n",
    "GP_DRT.NMLL_fct(theta_0, Z_exp, xi_vec)\n",
    "GP_DRT.grad_NMLL_fct(theta_0, Z_exp, xi_vec)\n",
    "print(\"sigma_n,   sigma_f,   ell\")\n",
    "\n",
    "# minimize the NMLL L(\\theta) w.r.t sigma_n, sigma_f, ell using the Newton-CG method as implemented in scipy\n",
    "res = minimize(\n",
    "    GP_DRT.NMLL_fct,\n",
    "    theta_0,\n",
    "    args=(Z_exp, xi_vec),\n",
    "    method=\"Newton-CG\",\n",
    "    jac=GP_DRT.grad_NMLL_fct,\n",
    "    callback=print_results,\n",
    "    options={\"disp\": True},\n",
    ")\n",
    "\n",
    "# collect the optimized parameters\n",
    "sigma_n, sigma_f, ell = res.x"
   ]
  },
  {
   "cell_type": "markdown",
   "metadata": {},
   "source": [
    "## 4) Core of the GP-DRT"
   ]
  },
  {
   "cell_type": "markdown",
   "metadata": {},
   "source": [
    "### 4a) Compute matrices"
   ]
  },
  {
   "cell_type": "code",
   "execution_count": null,
   "metadata": {},
   "outputs": [],
   "source": [
    "# calculate the matrices shown in eq (18)\n",
    "K = GP_DRT.matrix_K(xi_vec, xi_vec, sigma_f, ell)\n",
    "L_im_K = GP_DRT.matrix_L_im_K(xi_vec, xi_vec, sigma_f, ell)\n",
    "L2_im_K = GP_DRT.matrix_L2_im_K(xi_vec, xi_vec, sigma_f, ell)\n",
    "Sigma = (sigma_n ** 2) * np.eye(N_freqs)"
   ]
  },
  {
   "cell_type": "markdown",
   "metadata": {},
   "source": [
    "### 4b) Factorize the matrices and solve the linear equations"
   ]
  },
  {
   "cell_type": "code",
   "execution_count": null,
   "metadata": {},
   "outputs": [],
   "source": [
    "# the matrix $\\mathcal L^2_{\\rm im} \\mathbf K + \\sigma_n^2 \\mathbf I$ whose inverse is needed\n",
    "K_im_full = L2_im_K + Sigma\n",
    "\n",
    "# Cholesky factorization, L is a lower-triangular matrix\n",
    "L = np.linalg.cholesky(K_im_full)\n",
    "\n",
    "# solve for alpha\n",
    "alpha = np.linalg.solve(L, Z_exp.imag)\n",
    "alpha = np.linalg.solve(L.T, alpha)\n",
    "\n",
    "# estimate the gamma of eq (21a), the minus sign, which is not included in L_im_K, refers to eq (65)\n",
    "gamma_fct_est = -np.dot(L_im_K.T, alpha)\n",
    "\n",
    "# covariance matrix\n",
    "inv_L = np.linalg.inv(L)\n",
    "inv_K_im_full = np.dot(inv_L.T, inv_L)\n",
    "inv_K_im_full2 = np.linalg.inv(K_im_full)\n",
    "\n",
    "# estimate the sigma of gamma for eq (21b)\n",
    "cov_gamma_fct_est = K - np.dot(L_im_K.T, np.dot(inv_K_im_full, L_im_K))\n",
    "sigma_gamma_fct_est = np.sqrt(np.diag(cov_gamma_fct_est))"
   ]
  },
  {
   "cell_type": "markdown",
   "metadata": {},
   "source": [
    "### 4c) Predict the imaginary part of the GP-DRT and impedance"
   ]
  },
  {
   "cell_type": "code",
   "execution_count": null,
   "metadata": {},
   "outputs": [],
   "source": [
    "# initialize the imaginary part of impedance vector\n",
    "Z_im_vec_star = np.empty_like(xi_vec_star)\n",
    "Sigma_Z_im_vec_star = np.empty_like(xi_vec_star)\n",
    "\n",
    "gamma_vec_star = np.empty_like(xi_vec_star)\n",
    "Sigma_gamma_vec_star = np.empty_like(xi_vec_star)\n",
    "\n",
    "# calculate the imaginary part of impedance at each $\\xi$ point for the plot\n",
    "for index, val in enumerate(xi_vec_star):\n",
    "    xi_star = np.array([val])\n",
    "\n",
    "    # compute matrices shown in eq (18), k_star corresponds to a new point\n",
    "    k_star = GP_DRT.matrix_K(xi_vec, xi_star, sigma_f, ell)\n",
    "    L_im_k_star = GP_DRT.matrix_L_im_K(\n",
    "        xi_vec, xi_star, sigma_f, ell\n",
    "    )  # ; L_im_k_star = L_im_k_star.T\n",
    "    L2_im_k_star = GP_DRT.matrix_L2_im_K(xi_star, xi_vec, sigma_f, ell)\n",
    "    L2_im_k_star = L2_im_k_star.T\n",
    "    k_star_star = GP_DRT.matrix_K(xi_star, xi_star, sigma_f, ell)\n",
    "    L_im_k_star_star = GP_DRT.matrix_L_im_K(xi_star, xi_star, sigma_f, ell)\n",
    "    L2_im_k_star_star = GP_DRT.matrix_L2_im_K(xi_star, xi_star, sigma_f, ell)\n",
    "\n",
    "    # compute Z_im_star mean and standard deviation using eq (26)\n",
    "    Z_im_vec_star[index] = np.dot(L2_im_k_star.T, np.dot(inv_K_im_full, Z_exp.imag))\n",
    "    Sigma_Z_im_vec_star[index] = L2_im_k_star_star - np.dot(\n",
    "        L2_im_k_star.T, np.dot(inv_K_im_full, L2_im_k_star)\n",
    "    )\n",
    "\n",
    "    # compute Z_im_star mean and standard deviation\n",
    "    gamma_vec_star[index] = -np.dot(L_im_k_star.T, np.dot(inv_K_im_full, Z_exp.imag))\n",
    "    Sigma_gamma_vec_star[index] = k_star_star - np.dot(\n",
    "        L_im_k_star.T, np.dot(inv_K_im_full, L_im_k_star)\n",
    "    )"
   ]
  },
  {
   "cell_type": "markdown",
   "metadata": {},
   "source": [
    "### 4d) Plot the obtained GP-DRT against the analytical DRT\n",
    "Note: we can see the prediction credibility interval broadening at low frequencies"
   ]
  },
  {
   "cell_type": "code",
   "execution_count": null,
   "metadata": {},
   "outputs": [],
   "source": [
    "# plot the DRT and its confidence region\n",
    "plt.semilogx(freq_vec_plot, gamma_fct_plot, linewidth=4, color=\"black\", label=\"exact\")\n",
    "plt.semilogx(freq_vec_star, gamma_vec_star, linewidth=4, color=\"red\", label=\"GP-DRT\")\n",
    "plt.semilogx([1e-3, 1e-3], [-5, 25], \":\", linewidth=3, color=\"black\")\n",
    "plt.fill_between(\n",
    "    freq_vec_star,\n",
    "    gamma_vec_star - 3 * np.sqrt(abs(Sigma_gamma_vec_star)),\n",
    "    gamma_vec_star + 3 * np.sqrt(abs(Sigma_gamma_vec_star)),\n",
    "    color=\"0.4\",\n",
    "    alpha=0.3,\n",
    ")\n",
    "plt.rc(\"text\", usetex=True)\n",
    "plt.rc(\"font\", family=\"serif\", size=15)\n",
    "plt.rc(\"xtick\", labelsize=15)\n",
    "plt.rc(\"ytick\", labelsize=15)\n",
    "plt.axis([1e-4, 1e4, -5, 25])\n",
    "plt.legend(frameon=False, fontsize=15)\n",
    "plt.xlabel(r\"$f/{\\rm Hz}$\", fontsize=20)\n",
    "plt.ylabel(r\"$\\gamma/\\Omega$\", fontsize=20)\n",
    "plt.show()"
   ]
  },
  {
   "cell_type": "markdown",
   "metadata": {},
   "source": [
    "### 4e) Plot the imaginary part of the GP-DRT impedance together with the exact one and the synthetic experiment\n",
    "Note: we can see the prediction credibility interval broadening at low frequencies"
   ]
  },
  {
   "cell_type": "code",
   "execution_count": null,
   "metadata": {},
   "outputs": [],
   "source": [
    "plt.semilogx(\n",
    "    freq_vec, -Z_exp.imag, \"o\", markersize=10, color=\"black\", label=\"synth exp\"\n",
    ")\n",
    "plt.semilogx(freq_vec_star, -Z_im_vec_star, linewidth=4, color=\"red\", label=\"GP-DRT\")\n",
    "plt.semilogx([1e-3, 1e-3], [-5, 25], \":\", linewidth=3, color=\"black\")\n",
    "plt.fill_between(\n",
    "    freq_vec_star,\n",
    "    -Z_im_vec_star - 3 * np.sqrt(abs(Sigma_Z_im_vec_star)),\n",
    "    -Z_im_vec_star + 3 * np.sqrt(abs(Sigma_Z_im_vec_star)),\n",
    "    alpha=0.3,\n",
    ")\n",
    "plt.rc(\"text\", usetex=True)\n",
    "plt.rc(\"font\", family=\"serif\", size=15)\n",
    "plt.rc(\"xtick\", labelsize=15)\n",
    "plt.rc(\"ytick\", labelsize=15)\n",
    "plt.axis([1e-4, 1e4, -5, 25])\n",
    "plt.legend(frameon=False, fontsize=15)\n",
    "plt.xlabel(r\"$f/{\\rm Hz}$\", fontsize=20)\n",
    "plt.ylabel(r\"$-Z_{\\rm im}/\\Omega$\", fontsize=20)\n",
    "plt.show()"
   ]
  }
 ],
 "metadata": {
  "language_info": {
   "codemirror_mode": {
    "name": "ipython",
    "version": 3
   },
   "file_extension": ".py",
   "mimetype": "text/x-python",
   "name": "python",
   "nbconvert_exporter": "python",
   "pygments_lexer": "ipython3",
   "version": "3.7.5"
  }
 },
 "nbformat": 4,
 "nbformat_minor": 2
}
