{
 "cells": [
  {
   "cell_type": "markdown",
   "metadata": {},
   "source": [
    "## Model Saving/Loading Example\n",
    "\n",
    "This set of examples shows how to load and import template models in order to make setting up and reproducing circuit fits easier."
   ]
  },
  {
   "cell_type": "code",
   "execution_count": null,
   "metadata": {},
   "outputs": [],
   "source": [
    "# Load libraries\n",
    "\n",
    "import impedance.models.circuits as circuits\n",
    "import impedance.preprocessing as preprocessing\n",
    "import matplotlib.pyplot as plt\n",
    "import numpy as np\n",
    "from impedance.visualization import plot_nyquist"
   ]
  },
  {
   "cell_type": "code",
   "execution_count": null,
   "metadata": {},
   "outputs": [],
   "source": [
    "# Load data from the example EIS result\n",
    "frequencies, Z = preprocessing.readCSV(\"../../../data/exampleData.csv\")\n",
    "\n",
    "# keep only the impedance data in the first quandrant\n",
    "frequencies, Z = preprocessing.ignoreBelowX(frequencies, Z)"
   ]
  },
  {
   "cell_type": "markdown",
   "metadata": {},
   "source": [
    "### Example 1. Importing and Exporting Models\n",
    "\n",
    "Call the `circuit.save()` function to export the model to a human readable JSON file. The following code generates a test circuit and export it as a template. Here we are using an unfitted model as a template.\n"
   ]
  },
  {
   "cell_type": "code",
   "execution_count": null,
   "metadata": {},
   "outputs": [],
   "source": [
    "test_circuit = circuits.CustomCircuit(\n",
    "    initial_guess=[0.01, 0.005, 0.1, 0.005, 0.1, 0.001, 200],\n",
    "    circuit=\"R0-p(R1,C1)-p(R2,C2)-Wo1\",\n",
    ")\n",
    "\n",
    "print(test_circuit)\n",
    "\n",
    "test_circuit.save(\"template_model.json\")"
   ]
  },
  {
   "cell_type": "markdown",
   "metadata": {},
   "source": [
    "Call the `model_io.model_import` function to import the model back as a template."
   ]
  },
  {
   "cell_type": "code",
   "execution_count": null,
   "metadata": {},
   "outputs": [],
   "source": [
    "loaded_template = circuits.CustomCircuit()\n",
    "loaded_template.load(\"template_model.json\")\n",
    "\n",
    "print(\"Loaded Template\")\n",
    "print(loaded_template)"
   ]
  },
  {
   "cell_type": "markdown",
   "metadata": {},
   "source": [
    "### Example 2. Using imported template model to fit data\n",
    "\n",
    "After the model has been imported as a template, it can be used as a starting point to fit data. This saves on needing to configure the initial parameters each time a fit is performed and to persist starting conditions across several fitting sessions."
   ]
  },
  {
   "cell_type": "code",
   "execution_count": null,
   "metadata": {},
   "outputs": [],
   "source": [
    "fig, ax = plt.subplots(figsize=(5, 5))\n",
    "f_pred = np.logspace(5, -2)\n",
    "loaded_template.fit(frequencies, Z)\n",
    "\n",
    "imported_circuit_init = loaded_template.predict(f_pred, use_initial=True)\n",
    "imported_circuit_fit = loaded_template.predict(f_pred)\n",
    "\n",
    "plot_nyquist(ax, Z)\n",
    "plot_nyquist(ax, imported_circuit_init)\n",
    "plot_nyquist(ax, imported_circuit_fit)\n",
    "\n",
    "ax.legend([\"Data\", \"Loaded Template Initial\", \"Loaded Template Fit\"])\n",
    "\n",
    "plt.show()\n",
    "print(loaded_template)"
   ]
  },
  {
   "cell_type": "markdown",
   "metadata": {},
   "source": [
    "### Example 3. Using fitted data as a starting point for new fits\n",
    "\n",
    "Consider the case where a successful fit has been performed and a new set of EIS data is obtained which is similar to the first spectrum. It is useful to use the successfully fitted parameters as a starting point for subsequent fits."
   ]
  },
  {
   "cell_type": "code",
   "execution_count": null,
   "metadata": {},
   "outputs": [],
   "source": [
    "# Export the fitted model as a template\n",
    "\n",
    "loaded_template.save(\"fitted_template.json\")"
   ]
  },
  {
   "cell_type": "markdown",
   "metadata": {},
   "source": [
    "Using the exported model's fitted parameters, generate a new circuit using the fitted parameters as initial guesses by suppling the `fitted_as_initial` parameter as `True`."
   ]
  },
  {
   "cell_type": "code",
   "execution_count": null,
   "metadata": {},
   "outputs": [],
   "source": [
    "fitted_template = circuits.CustomCircuit()\n",
    "fitted_template.load(\"fitted_template.json\", fitted_as_initial=True)\n",
    "print(fitted_template)"
   ]
  },
  {
   "cell_type": "markdown",
   "metadata": {},
   "source": [
    "Z2 is a similar impedance spectra that we can fit using the previous fitted parameters as starting points. It has been shifted by 5 mOhm in the real axis and the data has been scaled by 1.5x."
   ]
  },
  {
   "cell_type": "code",
   "execution_count": null,
   "metadata": {},
   "outputs": [],
   "source": [
    "Z2 = (0.005 + Z.real) * 1.5 + 1.5j * Z.imag"
   ]
  },
  {
   "cell_type": "code",
   "execution_count": null,
   "metadata": {},
   "outputs": [],
   "source": [
    "fig, ax = plt.subplots(figsize=(10, 10))\n",
    "f_pred = np.logspace(5, -2)\n",
    "fitted_template.fit(frequencies, Z2)\n",
    "\n",
    "imported_circuit_init = fitted_template.predict(f_pred, use_initial=True)\n",
    "imported_circuit_fit = fitted_template.predict(f_pred)\n",
    "\n",
    "plot_nyquist(ax, Z)\n",
    "plot_nyquist(ax, Z2)\n",
    "plot_nyquist(ax, imported_circuit_init)\n",
    "plot_nyquist(ax, imported_circuit_fit)\n",
    "\n",
    "ax.legend([\"Original Data\", \"Shifted Data\", \"Template Initial\", \"Loaded Template Fit\"])\n",
    "\n",
    "plt.show()\n",
    "\n",
    "print(fitted_template)"
   ]
  }
 ],
 "metadata": {
  "language_info": {
   "codemirror_mode": {
    "name": "ipython",
    "version": 3
   },
   "file_extension": ".py",
   "mimetype": "text/x-python",
   "name": "python",
   "nbconvert_exporter": "python",
   "pygments_lexer": "ipython3",
   "version": "3.6.10"
  }
 },
 "nbformat": 4,
 "nbformat_minor": 4
}
