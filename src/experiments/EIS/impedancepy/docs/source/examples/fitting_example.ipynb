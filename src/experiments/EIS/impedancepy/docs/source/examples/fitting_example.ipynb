{
 "cells": [
  {
   "cell_type": "markdown",
   "metadata": {},
   "source": [
    "# Fitting impedance spectra"
   ]
  },
  {
   "cell_type": "markdown",
   "metadata": {},
   "source": [
    "## 1. Import and initialize equivalent circuit(s)\n",
    "\n",
    "To begin we will import the Randles' circuit and a custom circuit from the impedance package. A full list of currently available circuits are available in the [documentation](https://impedancepy.readthedocs.io/en/latest/circuits.html)."
   ]
  },
  {
   "cell_type": "code",
   "execution_count": null,
   "metadata": {},
   "outputs": [],
   "source": [
    "import sys\n",
    "\n",
    "sys.path.append(\"../../../\")\n",
    "\n",
    "from impedance.models.circuits import CustomCircuit, Randles"
   ]
  },
  {
   "cell_type": "markdown",
   "metadata": {},
   "source": [
    "The classes we just imported represent different equivalent circuit models. To actually use them we want to initialize a specific instance and provide an initial guess for the parameters and any other options.\n",
    "\n",
    "*E.g. for the randles circuit, one of the options is for a constant phase element (CPE) instead of an ideal capacitor.*"
   ]
  },
  {
   "cell_type": "code",
   "execution_count": null,
   "metadata": {},
   "outputs": [],
   "source": [
    "randles = Randles(initial_guess=[0.01, 0.005, 0.1, 0.001, 200])\n",
    "randlesCPE = Randles(initial_guess=[0.01, 0.005, 0.1, 0.9, 0.001, 200], CPE=True)"
   ]
  },
  {
   "cell_type": "markdown",
   "metadata": {},
   "source": [
    "Defining the custom circuit works a little differently. Here we pass a string comprised of the circuit elements grouped either in series (separated with a `-`) or in parallel (using the form `p(X,Y)`). Each element can be appended with an integer (e.g. `R0`) or an underscore and an integer (e.g. `CPE_1`) to make keeping track of multiple elements of the same type easier."
   ]
  },
  {
   "cell_type": "code",
   "execution_count": null,
   "metadata": {},
   "outputs": [],
   "source": [
    "customCircuit = CustomCircuit(\n",
    "    initial_guess=[0.01, 0.005, 0.1, 0.005, 0.1, 0.001, 200],\n",
    "    circuit=\"R_0-p(R_1,C_1)-p(R_2,C_2)-Wo_1\",\n",
    ")"
   ]
  },
  {
   "cell_type": "markdown",
   "metadata": {},
   "source": [
    "As of version 0.4, you can now specify values you want to hold constant. For example,"
   ]
  },
  {
   "cell_type": "code",
   "execution_count": null,
   "metadata": {},
   "outputs": [],
   "source": [
    "customConstantCircuit = CustomCircuit(\n",
    "    initial_guess=[None, 0.005, 0.1, 0.005, 0.1, 0.001, None],\n",
    "    constants={\"R_0\": 0.02, \"Wo_1_1\": 200},\n",
    "    circuit=\"R_0-p(R_1,C_1)-p(R_2,C_2)-Wo_1\",\n",
    ")"
   ]
  },
  {
   "cell_type": "markdown",
   "metadata": {},
   "source": [
    "Each of the circuit objects we create can be printed in order to see the properties that have been defined for that circuit."
   ]
  },
  {
   "cell_type": "code",
   "execution_count": null,
   "metadata": {},
   "outputs": [],
   "source": [
    "print(customConstantCircuit)"
   ]
  },
  {
   "cell_type": "markdown",
   "metadata": {},
   "source": [
    "## 2. Formulate data"
   ]
  },
  {
   "cell_type": "markdown",
   "metadata": {},
   "source": [
    "Several convenience functions for importing data exist in the impedance.preprocessing module, including one for reading simple `.csv` files where frequencies are stored in the first column, real parts of the impedance are in the second column, and imaginary parts of the impedance are in the third column."
   ]
  },
  {
   "cell_type": "code",
   "execution_count": null,
   "metadata": {},
   "outputs": [],
   "source": [
    "from impedance import preprocessing\n",
    "\n",
    "frequencies, Z = preprocessing.readCSV(\"../../../data/exampleData.csv\")\n",
    "\n",
    "# keep only the impedance data in the first quandrant\n",
    "frequencies, Z = preprocessing.ignoreBelowX(frequencies, Z)"
   ]
  },
  {
   "cell_type": "markdown",
   "metadata": {},
   "source": [
    "## 3. Fit the equivalent circuits to a spectrum"
   ]
  },
  {
   "cell_type": "markdown",
   "metadata": {},
   "source": [
    "Each of the circuit classes has a `.fit()` method which finds the best fitting parameters.\n",
    "\n",
    "After fitting a circuit, the fit parameters rather that the inital guesses are shown when printing."
   ]
  },
  {
   "cell_type": "code",
   "execution_count": null,
   "metadata": {},
   "outputs": [],
   "source": [
    "randles.fit(frequencies, Z)\n",
    "randlesCPE.fit(frequencies, Z)\n",
    "customCircuit.fit(frequencies, Z)\n",
    "customConstantCircuit.fit(frequencies, Z)\n",
    "\n",
    "print(customConstantCircuit)"
   ]
  },
  {
   "cell_type": "markdown",
   "metadata": {},
   "source": [
    "## 4a. Predict circuit model and visualize with matplotlib"
   ]
  },
  {
   "cell_type": "code",
   "execution_count": null,
   "metadata": {},
   "outputs": [],
   "source": [
    "import matplotlib.pyplot as plt\n",
    "from impedance.visualization import plot_nyquist\n",
    "\n",
    "f_pred = np.logspace(5, -2)\n",
    "\n",
    "randles_fit = randles.predict(f_pred)\n",
    "randlesCPE_fit = randlesCPE.predict(f_pred)\n",
    "customCircuit_fit = customCircuit.predict(f_pred)\n",
    "customConstantCircuit_fit = customConstantCircuit.predict(f_pred)\n",
    "\n",
    "fig, ax = plt.subplots(figsize=(5, 5))\n",
    "\n",
    "plot_nyquist(ax, Z)\n",
    "plot_nyquist(ax, randles_fit, fmt=\"-\")\n",
    "plot_nyquist(ax, randlesCPE_fit, fmt=\"-\")\n",
    "plot_nyquist(ax, customCircuit_fit, fmt=\"-\")\n",
    "plot_nyquist(ax, customConstantCircuit_fit, fmt=\"-\")\n",
    "\n",
    "ax.legend(\n",
    "    [\n",
    "        \"Data\",\n",
    "        \"Randles\",\n",
    "        \"Randles w/ CPE\",\n",
    "        \"Custom Circuit\",\n",
    "        \"Custom Circuit w/ Constant R0 and W1_1\",\n",
    "    ]\n",
    ")\n",
    "plt.show()"
   ]
  },
  {
   "cell_type": "markdown",
   "metadata": {},
   "source": [
    "## 4b. Or use the convenient plotting method included in the package"
   ]
  },
  {
   "cell_type": "code",
   "execution_count": null,
   "metadata": {},
   "outputs": [],
   "source": [
    "randles.plot(f_data=frequencies, Z_data=Z, kind=\"nyquist\")\n",
    "randlesCPE.plot(f_data=frequencies, Z_data=Z, kind=\"nyquist\")\n",
    "customCircuit.plot(f_data=frequencies, Z_data=Z, kind=\"nyquist\")\n",
    "customConstantCircuit.plot(f_data=frequencies, Z_data=Z, kind=\"nyquist\")\n",
    "\n",
    "plt.show()"
   ]
  }
 ],
 "metadata": {
  "language_info": {
   "codemirror_mode": {
    "name": "ipython",
    "version": 3
   },
   "file_extension": ".py",
   "mimetype": "text/x-python",
   "name": "python",
   "nbconvert_exporter": "python",
   "pygments_lexer": "ipython3",
   "version": "3.6.10"
  }
 },
 "nbformat": 4,
 "nbformat_minor": 4
}
