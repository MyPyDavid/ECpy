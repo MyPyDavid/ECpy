{
 "cells": [
  {
   "cell_type": "markdown",
   "metadata": {},
   "source": [
    "# Looping through and fitting multiple impedance data sets"
   ]
  },
  {
   "cell_type": "code",
   "execution_count": null,
   "metadata": {},
   "outputs": [],
   "source": [
    "import os\n",
    "import sys\n",
    "\n",
    "sys.path.append(\"../../../\")\n",
    "\n",
    "import glob\n",
    "\n",
    "import numpy as np"
   ]
  },
  {
   "cell_type": "markdown",
   "metadata": {},
   "source": [
    "## 1. Find all files that match a specified pattern"
   ]
  },
  {
   "cell_type": "markdown",
   "metadata": {},
   "source": [
    "#### Using a search string to find .z files that contain \"Circuit\" at the beginning and EIS towards the end"
   ]
  },
  {
   "cell_type": "code",
   "execution_count": null,
   "metadata": {},
   "outputs": [],
   "source": [
    "directory = r\"../../../data/\"\n",
    "all_files = glob.glob(os.path.join(directory, \"Circuit*EIS*.z\"))\n",
    "all_files"
   ]
  },
  {
   "cell_type": "markdown",
   "metadata": {},
   "source": [
    "### 2. Use preprocessing module to read in ZPlot data"
   ]
  },
  {
   "cell_type": "code",
   "execution_count": null,
   "metadata": {},
   "outputs": [],
   "source": [
    "from impedance import preprocessing\n",
    "\n",
    "# Initialize some empty lists for the frequencies and Z data\n",
    "freqs = []\n",
    "Zs = []\n",
    "\n",
    "# Now loop through file names in our list and extract data one by one\n",
    "for filename in all_files:\n",
    "    f, Z = preprocessing.readZPlot(filename)\n",
    "    freqs.append(f)\n",
    "    Zs.append(Z)\n",
    "\n",
    "# Check to see if we extracted data for all the files\n",
    "print(np.shape(Zs), np.shape(all_files))"
   ]
  },
  {
   "cell_type": "markdown",
   "metadata": {},
   "source": [
    "## 3. Create a list of circuit models"
   ]
  },
  {
   "cell_type": "code",
   "execution_count": null,
   "metadata": {},
   "outputs": [],
   "source": [
    "from impedance.models.circuits import CustomCircuit\n",
    "\n",
    "# This data comes from dummy circuits I made to check measurement bias in\n",
    "# our potentiostat, so I know a priori its an R-RC circuit\n",
    "\n",
    "circuits = []\n",
    "\n",
    "circ_string = \"R0-p(R1,C1)\"\n",
    "initial_guess = [100, 400, 1e-5]\n",
    "\n",
    "# Now loop through data list to create circuits and fit them\n",
    "for f, Z, filename in zip(freqs, Zs, all_files):\n",
    "    name = filename.split(\"/\")[-1]\n",
    "    circuit = CustomCircuit(circ_string, initial_guess=initial_guess, name=name)\n",
    "    circuit.fit(f, Z)\n",
    "    circuits.append(circuit)"
   ]
  },
  {
   "cell_type": "markdown",
   "metadata": {},
   "source": [
    "We now have a list of our circuit class objects, all fit to different sets of\n",
    "data. As you may notice from the file names, there are three unique circuits\n",
    "each with a replicate set of data. We expect each of the replicates to fit\n",
    "similarly."
   ]
  },
  {
   "cell_type": "code",
   "execution_count": null,
   "metadata": {},
   "outputs": [],
   "source": [
    "for circuit in circuits:\n",
    "    print(circuit)"
   ]
  },
  {
   "cell_type": "markdown",
   "metadata": {},
   "source": [
    "Now we'll get the impedance predicted by the fit parameters"
   ]
  },
  {
   "cell_type": "code",
   "execution_count": null,
   "metadata": {},
   "outputs": [],
   "source": [
    "fits = []\n",
    "for f, circuit in zip(freqs, circuits):\n",
    "    fits.append(circuit.predict(f))"
   ]
  },
  {
   "cell_type": "markdown",
   "metadata": {},
   "source": [
    "## 4. Plot the data and fits \n",
    "Now we can visualize the data and fits. For now we'll place them all on the same axis"
   ]
  },
  {
   "cell_type": "code",
   "execution_count": null,
   "metadata": {},
   "outputs": [],
   "source": [
    "import matplotlib.pyplot as plt\n",
    "from impedance.visualization import plot_bode, plot_nyquist"
   ]
  },
  {
   "cell_type": "code",
   "execution_count": null,
   "metadata": {},
   "outputs": [],
   "source": [
    "fig, ax = plt.subplots()\n",
    "\n",
    "for fit, Z in zip(fits, Zs):\n",
    "    # Plotting data\n",
    "    plot_nyquist(ax, Z)\n",
    "\n",
    "    # Plotting fit\n",
    "    plot_nyquist(ax, fit)\n",
    "\n",
    "plt.show()"
   ]
  },
  {
   "cell_type": "markdown",
   "metadata": {},
   "source": [
    "Since the circuits have different orders of magnitude impedance, this looks bad\n",
    "so let's put each pair of data on separate axes. "
   ]
  },
  {
   "cell_type": "code",
   "execution_count": null,
   "metadata": {},
   "outputs": [],
   "source": [
    "# Nyquist plots\n",
    "fig, axes = plt.subplots(ncols=3, figsize=(22, 6))\n",
    "for circuit, Z, fit in zip(circuits, Zs, fits):\n",
    "    n = int(circuit.name.split(\"Circuit\")[-1].split(\"_\")[0])\n",
    "    plot_nyquist(axes[n - 1], Z)\n",
    "    plot_nyquist(axes[n - 1], fit)\n",
    "\n",
    "# Bode plots\n",
    "fig, axes = plt.subplots(nrows=2, ncols=3, figsize=(22, 6))\n",
    "for circuit, f, Z, fit in zip(circuits, freqs, Zs, fits):\n",
    "    n = int(circuit.name.split(\"Circuit\")[-1].split(\"_\")[0])\n",
    "    plot_bode([axes[0][n - 1], axes[1][n - 1]], f, Z)\n",
    "    plot_bode([axes[0][n - 1], axes[1][n - 1]], f, fit)\n",
    "\n",
    "plt.show()"
   ]
  }
 ],
 "metadata": {
  "language_info": {
   "codemirror_mode": {
    "name": "ipython",
    "version": 3
   },
   "file_extension": ".py",
   "mimetype": "text/x-python",
   "name": "python",
   "nbconvert_exporter": "python",
   "pygments_lexer": "ipython3",
   "version": "3.6.10"
  }
 },
 "nbformat": 4,
 "nbformat_minor": 4
}
