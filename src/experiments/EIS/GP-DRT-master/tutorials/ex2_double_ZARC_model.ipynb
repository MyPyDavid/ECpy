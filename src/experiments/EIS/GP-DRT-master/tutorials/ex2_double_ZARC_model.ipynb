{
 "cells": [
  {
   "cell_type": "markdown",
   "metadata": {},
   "source": [
    "# Gaussian Process Distribution of Relaxation Times. \n",
    "## In this tutorial we will reproduce Figure 9 of the article https://doi.org/10.1016/j.electacta.2019.135316Reproduce\n",
    "\n",
    "This tutorial shows how the GP-DRT model can manage the overlapping timescales in the impedance. The impedance has been synthesized using two ZARC elements in series. "
   ]
  },
  {
   "cell_type": "code",
   "execution_count": null,
   "metadata": {},
   "outputs": [],
   "source": [
    "from math import cos, pi, sin\n",
    "\n",
    "import GP_DRT\n",
    "import matplotlib.pyplot as plt\n",
    "import numpy as np\n",
    "from scipy.optimize import minimize\n",
    "\n",
    "%matplotlib inline"
   ]
  },
  {
   "cell_type": "markdown",
   "metadata": {},
   "source": [
    "## 1) Define parameters for the synthetic impedance based on two ZARCs in series. \n",
    "\n",
    "The impedance has the format of \n",
    "\n",
    "$$\n",
    "Z^{\\rm exact}(f) = 2R_\\infty + \\displaystyle \\frac{1}{\\displaystyle \\frac{1}{R_{\\rm ct}}+C_1 \\left(i 2\\pi f\\right)^{\\phi}} + \\displaystyle \\frac{1}{\\displaystyle\\frac{1}{R_{\\rm ct}}+C_2 \\left(i 2\\pi f\\right)^{\\phi}}\n",
    "$$ \n",
    "where $\\displaystyle C_1 = \\frac{\\tau_1^\\phi}{R_{\\rm ct}}$ and $\\displaystyle C_2 = \\frac{\\tau_2^\\phi}{R_{\\rm ct}}$\n",
    "\n",
    "In this tutorial, $\\tau_1=0.1$ and $\\tau_2=10$\n",
    "\n",
    "The analytical DRT is calculated as \n",
    "\n",
    "$$\n",
    "\\gamma(\\log \\tau) = \\displaystyle \\frac{\\displaystyle R_{\\rm ct}}{\\displaystyle 2\\pi} \\sin\\left((1-\\phi)\\pi\\right) \\displaystyle \\left(\\frac{1 }{\\displaystyle \\cosh(\\phi \\log(\\tau/\\tau_1))-\\cos(\\pi(1-\\phi))} +  \\displaystyle \\frac{1}{\\displaystyle \\cosh(\\phi \\log(\\tau/\\tau_2))-\\cos(\\pi(1-\\phi))}\\right)\n",
    "$$"
   ]
  },
  {
   "cell_type": "code",
   "execution_count": null,
   "metadata": {},
   "outputs": [],
   "source": [
    "# define the frequency range\n",
    "N_freqs = 81\n",
    "freq_vec = np.logspace(-4.0, 4.0, num=N_freqs, endpoint=True)\n",
    "xi_vec = np.log(freq_vec)\n",
    "tau = 1 / freq_vec\n",
    "\n",
    "# define the frequency range used for prediction\n",
    "freq_vec_star = np.logspace(-4.0, 4.0, num=81, endpoint=True)\n",
    "xi_vec_star = np.log(freq_vec_star)\n",
    "\n",
    "# parameters for two ZARCs in series, the impedance, and the analytical DRT are calculated as the above equations\n",
    "R_inf = 10\n",
    "R_ct = 50\n",
    "phi = 0.8\n",
    "tau_1 = 0.1\n",
    "tau_2 = 10\n",
    "\n",
    "C_1 = tau_1 ** phi / R_ct\n",
    "C_2 = tau_2 ** phi / R_ct\n",
    "\n",
    "Z_exact = (\n",
    "    2 * R_inf\n",
    "    + 1.0 / (1.0 / R_ct + C_1 * (1j * 2.0 * pi * freq_vec) ** phi)\n",
    "    + 1.0 / (1.0 / R_ct + C_2 * (1j * 2.0 * pi * freq_vec) ** phi)\n",
    ")\n",
    "gamma_fct = (\n",
    "    (R_ct)\n",
    "    / (2.0 * pi)\n",
    "    * sin((1.0 - phi) * pi)\n",
    "    * (\n",
    "        1 / (np.cosh(phi * np.log(tau / tau_1)) - cos((1.0 - phi) * pi))\n",
    "        + 1 / (np.cosh(phi * np.log(tau / tau_2)) - cos((1.0 - phi) * pi))\n",
    "    )\n",
    ")\n",
    "\n",
    "# used for plotting only\n",
    "freq_vec_plot = np.logspace(-4.0, 4.0, num=10 * (N_freqs - 1), endpoint=True)\n",
    "tau_plot = 1 / freq_vec_plot\n",
    "gamma_fct_plot = (\n",
    "    (R_ct)\n",
    "    / (2.0 * pi)\n",
    "    * sin((1.0 - phi) * pi)\n",
    "    * (\n",
    "        1 / (np.cosh(phi * np.log(tau_plot / tau_1)) - cos((1.0 - phi) * pi))\n",
    "        + 1 / (np.cosh(phi * np.log(tau_plot / tau_2)) - cos((1.0 - phi) * pi))\n",
    "    )\n",
    ")\n",
    "# adding random noise to the synthetic data\n",
    "rng = np.random.seed(214975)\n",
    "sigma_n_exp = 0.1\n",
    "Z_exp = Z_exact + sigma_n_exp * (\n",
    "    np.random.normal(0, 1, N_freqs) + 1j * np.random.normal(0, 1, N_freqs)\n",
    ")"
   ]
  },
  {
   "cell_type": "markdown",
   "metadata": {},
   "source": [
    "## 2) show the synthetic impedance in the Nyquist plot. Note: this is similar to Figure 9 (a)"
   ]
  },
  {
   "cell_type": "code",
   "execution_count": null,
   "metadata": {},
   "outputs": [],
   "source": [
    "# Nyquist plot of the impedance\n",
    "fig, ax = plt.subplots()\n",
    "plt.plot(np.real(Z_exact), -np.imag(Z_exact), linewidth=4, color=\"black\", label=\"exact\")\n",
    "plt.plot(\n",
    "    np.real(Z_exp), -np.imag(Z_exp), \"o\", markersize=10, color=\"red\", label=\"synth exp\"\n",
    ")\n",
    "plt.plot(\n",
    "    np.real(Z_exp[10:70:10]),\n",
    "    -np.imag(Z_exp[10:70:10]),\n",
    "    \"s\",\n",
    "    markersize=10,\n",
    "    color=\"black\",\n",
    ")\n",
    "\n",
    "plt.rc(\"text\", usetex=True)\n",
    "plt.rc(\"font\", family=\"serif\", size=15)\n",
    "plt.rc(\"xtick\", labelsize=15)\n",
    "plt.rc(\"ytick\", labelsize=15)\n",
    "plt.legend(frameon=False, fontsize=15)\n",
    "plt.axis(\"scaled\")\n",
    "\n",
    "plt.xticks(range(10, 150, 10))\n",
    "plt.yticks(range(0, 60, 10))\n",
    "plt.gca().set_aspect(\"equal\", adjustable=\"box\")\n",
    "plt.xlabel(r\"$Z_{\\rm re}/\\Omega$\", fontsize=20)\n",
    "plt.ylabel(r\"$-Z_{\\rm im}/\\Omega$\", fontsize=20)\n",
    "\n",
    "# label points with frequency\n",
    "plt.annotate(\n",
    "    r\"$10^{-3}$\",\n",
    "    xy=(np.real(Z_exp[10]), -np.imag(Z_exp[10])),\n",
    "    xytext=(np.real(Z_exp[10]) + 10, 5 - np.imag(Z_exp[10])),\n",
    "    arrowprops=dict(arrowstyle=\"-\", connectionstyle=\"arc\"),\n",
    ")\n",
    "plt.annotate(\n",
    "    r\"$10^{-2}$\",\n",
    "    xy=(np.real(Z_exp[20]), -np.imag(Z_exp[20])),\n",
    "    xytext=(np.real(Z_exp[20]) + 10, 5 - np.imag(Z_exp[20])),\n",
    "    arrowprops=dict(arrowstyle=\"-\", connectionstyle=\"arc\"),\n",
    ")\n",
    "plt.annotate(\n",
    "    r\"$10^{-1}$\",\n",
    "    xy=(np.real(Z_exp[30]), -np.imag(Z_exp[30])),\n",
    "    xytext=(np.real(Z_exp[30]) - 5, 10 - np.imag(Z_exp[30])),\n",
    "    arrowprops=dict(arrowstyle=\"-\", connectionstyle=\"arc\"),\n",
    ")\n",
    "plt.annotate(\n",
    "    r\"$1$\",\n",
    "    xy=(np.real(Z_exp[40]), -np.imag(Z_exp[40])),\n",
    "    xytext=(np.real(Z_exp[40]) - 5, 10 - np.imag(Z_exp[40])),\n",
    "    arrowprops=dict(arrowstyle=\"-\", connectionstyle=\"arc\"),\n",
    ")\n",
    "plt.annotate(\n",
    "    r\"$10$\",\n",
    "    xy=(np.real(Z_exp[50]), -np.imag(Z_exp[50])),\n",
    "    xytext=(np.real(Z_exp[50]) - 5, 10 - np.imag(Z_exp[50])),\n",
    "    arrowprops=dict(arrowstyle=\"-\", connectionstyle=\"arc\"),\n",
    ")\n",
    "plt.annotate(\n",
    "    r\"$10^2$\",\n",
    "    xy=(np.real(Z_exp[60]), -np.imag(Z_exp[60])),\n",
    "    xytext=(np.real(Z_exp[60]) - 5, 10 - np.imag(Z_exp[60])),\n",
    "    arrowprops=dict(arrowstyle=\"-\", connectionstyle=\"arc\"),\n",
    ")\n",
    "plt.show()"
   ]
  },
  {
   "cell_type": "markdown",
   "metadata": {},
   "source": [
    "## 3) Compute the optimal hyperparameters"
   ]
  },
  {
   "cell_type": "code",
   "execution_count": null,
   "metadata": {},
   "outputs": [],
   "source": [
    "# initialize the parameter for global 3D optimization to maximize the marginal log-likelihood as shown in eq (31)\n",
    "sigma_n = sigma_n_exp\n",
    "sigma_f = 5.0\n",
    "ell = 1.0\n",
    "\n",
    "theta_0 = np.array([sigma_n, sigma_f, ell])\n",
    "seq_theta = np.copy(theta_0)\n",
    "\n",
    "\n",
    "def print_results(theta):\n",
    "    global seq_theta\n",
    "    seq_theta = np.vstack((seq_theta, theta))\n",
    "    print(\"{0:.7f}  {1:.7f}  {2:.7f}\".format(theta[0], theta[1], theta[2]))\n",
    "\n",
    "\n",
    "GP_DRT.NMLL_fct(theta_0, Z_exp, xi_vec)\n",
    "GP_DRT.grad_NMLL_fct(theta_0, Z_exp, xi_vec)\n",
    "\n",
    "print(\"sigma_n,   sigma_f,   ell\")\n",
    "# minimize the NMLL L(\\theta) w.r.t sigma_n, sigma_f, ell using the Newton-CG method as implemented in scipy\n",
    "res = minimize(\n",
    "    GP_DRT.NMLL_fct,\n",
    "    theta_0,\n",
    "    args=(Z_exp, xi_vec),\n",
    "    method=\"Newton-CG\",\n",
    "    jac=GP_DRT.grad_NMLL_fct,\n",
    "    callback=print_results,\n",
    "    options={\"disp\": True},\n",
    ")\n",
    "\n",
    "# collect the optimized parameters\n",
    "sigma_n, sigma_f, ell = res.x"
   ]
  },
  {
   "cell_type": "markdown",
   "metadata": {},
   "source": [
    "## 4) Core of the GP-DRT"
   ]
  },
  {
   "cell_type": "markdown",
   "metadata": {},
   "source": [
    "### 4a) Compute matrices"
   ]
  },
  {
   "cell_type": "code",
   "execution_count": null,
   "metadata": {},
   "outputs": [],
   "source": [
    "# calculate the matrices shown in eq (18)\n",
    "K = GP_DRT.matrix_K(xi_vec, xi_vec, sigma_f, ell)\n",
    "L_im_K = GP_DRT.matrix_L_im_K(xi_vec, xi_vec, sigma_f, ell)\n",
    "L2_im_K = GP_DRT.matrix_L2_im_K(xi_vec, xi_vec, sigma_f, ell)\n",
    "Sigma = (sigma_n ** 2) * np.eye(N_freqs)"
   ]
  },
  {
   "cell_type": "markdown",
   "metadata": {},
   "source": [
    "### 4b) Factorize the matrices and solve the linear equations"
   ]
  },
  {
   "cell_type": "code",
   "execution_count": null,
   "metadata": {},
   "outputs": [],
   "source": [
    "# the matrix $\\mathcal L^2_{\\rm im} \\mathbf K + \\sigma_n^2 \\mathbf I$ whose inverse is needed\n",
    "K_im_full = L2_im_K + Sigma\n",
    "\n",
    "# Cholesky factorization\n",
    "L = np.linalg.cholesky(K_im_full)\n",
    "\n",
    "# solve for alpha\n",
    "alpha = np.linalg.solve(L, Z_exp.imag)\n",
    "alpha = np.linalg.solve(L.T, alpha)\n",
    "\n",
    "# estimate the gamma of eq (21a), the minus sign, which is not included in L_im_K, refers to eq (65)\n",
    "gamma_fct_est = -np.dot(L_im_K.T, alpha)\n",
    "\n",
    "# covariance matrix\n",
    "inv_L = np.linalg.inv(L)\n",
    "inv_K_im_full = np.dot(inv_L.T, inv_L)\n",
    "inv_K_im_full2 = np.linalg.inv(K_im_full)\n",
    "\n",
    "# estimate the sigma of gamma for eq (21b)\n",
    "cov_gamma_fct_est = K - np.dot(L_im_K.T, np.dot(inv_K_im_full, L_im_K))\n",
    "sigma_gamma_fct_est = np.sqrt(np.diag(cov_gamma_fct_est))"
   ]
  },
  {
   "cell_type": "markdown",
   "metadata": {},
   "source": [
    "### 4c) Plot the obtained DRT against the analytical DRT"
   ]
  },
  {
   "cell_type": "code",
   "execution_count": null,
   "metadata": {},
   "outputs": [],
   "source": [
    "# plot the DRT and its confidence region\n",
    "plt.semilogx(freq_vec_plot, gamma_fct_plot, linewidth=4, color=\"black\", label=\"exact\")\n",
    "plt.semilogx(freq_vec, gamma_fct_est, linewidth=4, color=\"red\", label=\"GP-DRT\")\n",
    "plt.fill_between(\n",
    "    freq_vec,\n",
    "    gamma_fct_est - 3 * sigma_gamma_fct_est,\n",
    "    gamma_fct_est + 3 * sigma_gamma_fct_est,\n",
    "    color=\"0.4\",\n",
    "    alpha=0.3,\n",
    ")\n",
    "plt.rc(\"text\", usetex=True)\n",
    "plt.rc(\"font\", family=\"serif\", size=15)\n",
    "plt.rc(\"xtick\", labelsize=15)\n",
    "plt.rc(\"ytick\", labelsize=15)\n",
    "plt.axis([1e-4, 1e4, -5, 30])\n",
    "plt.legend(frameon=False, fontsize=15)\n",
    "plt.xlabel(r\"$f/{\\rm Hz}$\", fontsize=20)\n",
    "plt.ylabel(r\"$\\gamma/\\Omega$\", fontsize=20)\n",
    "plt.show()"
   ]
  },
  {
   "cell_type": "markdown",
   "metadata": {},
   "source": [
    "### 4d) Predict the $\\gamma$ and the imaginary part of the GP-DRT impedance"
   ]
  },
  {
   "cell_type": "code",
   "execution_count": null,
   "metadata": {},
   "outputs": [],
   "source": [
    "# initialize the imaginary part of impedance vector\n",
    "Z_im_vec_star = np.empty_like(xi_vec_star)\n",
    "Sigma_Z_im_vec_star = np.empty_like(xi_vec_star)\n",
    "\n",
    "gamma_vec_star = np.empty_like(xi_vec_star)\n",
    "Sigma_gamma_vec_star = np.empty_like(xi_vec_star)\n",
    "\n",
    "# calculate the imaginary part of impedance at each $\\xi$ point for the plot\n",
    "for index, val in enumerate(xi_vec_star):\n",
    "    xi_star = np.array([val])\n",
    "\n",
    "    # compute matrices shown in eq (18), k_star corresponds to a new point\n",
    "    k_star = GP_DRT.matrix_K(xi_vec, xi_star, sigma_f, ell)\n",
    "    L_im_k_star = GP_DRT.matrix_L_im_K(xi_vec, xi_star, sigma_f, ell)\n",
    "    L2_im_k_star = GP_DRT.matrix_L2_im_K(xi_vec, xi_star, sigma_f, ell)\n",
    "    k_star_star = GP_DRT.matrix_K(xi_star, xi_star, sigma_f, ell)\n",
    "    L_im_k_star_star = GP_DRT.matrix_L_im_K(xi_star, xi_star, sigma_f, ell)\n",
    "    L2_im_k_star_star = GP_DRT.matrix_L2_im_K(xi_star, xi_star, sigma_f, ell)\n",
    "\n",
    "    # compute Z_im_star mean and standard deviation using eq (26)\n",
    "    Z_im_vec_star[index] = np.dot(L2_im_k_star.T, np.dot(inv_K_im_full, Z_exp.imag))\n",
    "    Sigma_Z_im_vec_star[index] = L2_im_k_star_star - np.dot(\n",
    "        L2_im_k_star.T, np.dot(inv_K_im_full, L2_im_k_star)\n",
    "    )\n",
    "\n",
    "    # compute Z_im_star mean and standard deviation\n",
    "    gamma_vec_star[index] = -np.dot(L_im_k_star.T, np.dot(inv_K_im_full, Z_exp.imag))\n",
    "    Sigma_gamma_vec_star[index] = k_star_star - np.dot(\n",
    "        L_im_k_star.T, np.dot(inv_K_im_full, L_im_k_star)\n",
    "    )"
   ]
  },
  {
   "cell_type": "markdown",
   "metadata": {},
   "source": [
    "### 4e) Plot the imaginary part of the GP-DRT impedance together with the exact one and the synthetic experiment"
   ]
  },
  {
   "cell_type": "code",
   "execution_count": null,
   "metadata": {},
   "outputs": [],
   "source": [
    "plt.semilogx(\n",
    "    freq_vec, -Z_exp.imag, \"o\", markersize=10, color=\"black\", label=\"synth exp\"\n",
    ")\n",
    "plt.semilogx(freq_vec_star, -Z_im_vec_star, linewidth=4, color=\"red\", label=\"GP-DRT\")\n",
    "plt.fill_between(\n",
    "    freq_vec_star,\n",
    "    -Z_im_vec_star - 3 * np.sqrt(abs(Sigma_Z_im_vec_star)),\n",
    "    -Z_im_vec_star + 3 * np.sqrt(abs(Sigma_Z_im_vec_star)),\n",
    "    alpha=0.3,\n",
    ")\n",
    "plt.rc(\"text\", usetex=True)\n",
    "plt.rc(\"font\", family=\"serif\", size=15)\n",
    "plt.rc(\"xtick\", labelsize=15)\n",
    "plt.rc(\"ytick\", labelsize=15)\n",
    "plt.axis([1e-4, 1e4, -5, 30])\n",
    "plt.legend(frameon=False, fontsize=15)\n",
    "plt.xlabel(r\"$f/{\\rm Hz}$\", fontsize=20)\n",
    "plt.ylabel(r\"$-Z_{\\rm im}/\\Omega$\", fontsize=20)\n",
    "plt.show()"
   ]
  }
 ],
 "metadata": {
  "language_info": {
   "codemirror_mode": {
    "name": "ipython",
    "version": 3
   },
   "file_extension": ".py",
   "mimetype": "text/x-python",
   "name": "python",
   "nbconvert_exporter": "python",
   "pygments_lexer": "ipython3",
   "version": "3.7.5"
  }
 },
 "nbformat": 4,
 "nbformat_minor": 2
}
